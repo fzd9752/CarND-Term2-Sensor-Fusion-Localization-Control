{
 "cells": [
  {
   "cell_type": "code",
   "execution_count": 1,
   "metadata": {
    "collapsed": true
   },
   "outputs": [],
   "source": [
    "import os\n",
    "import csv\n",
    "import pandas as pd\n",
    "import pprint as p"
   ]
  },
  {
   "cell_type": "code",
   "execution_count": 2,
   "metadata": {
    "collapsed": true
   },
   "outputs": [],
   "source": [
    "file = \"obj_pose-laser-radar-synthetic-input.txt\"\n",
    "\n",
    "header = \"timestamp x_groundtruth y_groundtruth vx_groundtruth vy_groundtruth yaw_groundtruth yawrate_groundtruth\\n\"\n",
    "header = header.split()\n",
    "\n",
    "data = []"
   ]
  },
  {
   "cell_type": "code",
   "execution_count": 3,
   "metadata": {
    "collapsed": true
   },
   "outputs": [],
   "source": [
    "f = open(file, 'r')\n",
    "\n",
    "for line in f:\n",
    "    row = line.split()\n",
    "    if row[0] == \"R\":\n",
    "        data.append(row[4:])\n",
    "    else:\n",
    "        data.append(row[3:])"
   ]
  },
  {
   "cell_type": "code",
   "execution_count": 4,
   "metadata": {},
   "outputs": [
    {
     "data": {
      "text/html": [
       "<div>\n",
       "<style>\n",
       "    .dataframe thead tr:only-child th {\n",
       "        text-align: right;\n",
       "    }\n",
       "\n",
       "    .dataframe thead th {\n",
       "        text-align: left;\n",
       "    }\n",
       "\n",
       "    .dataframe tbody tr th {\n",
       "        vertical-align: top;\n",
       "    }\n",
       "</style>\n",
       "<table border=\"1\" class=\"dataframe\">\n",
       "  <thead>\n",
       "    <tr style=\"text-align: right;\">\n",
       "      <th></th>\n",
       "      <th>timestamp</th>\n",
       "      <th>x_groundtruth</th>\n",
       "      <th>y_groundtruth</th>\n",
       "      <th>vx_groundtruth</th>\n",
       "      <th>vy_groundtruth</th>\n",
       "      <th>yaw_groundtruth</th>\n",
       "      <th>yawrate_groundtruth</th>\n",
       "    </tr>\n",
       "  </thead>\n",
       "  <tbody>\n",
       "    <tr>\n",
       "      <th>0</th>\n",
       "      <td>1.477010e+15</td>\n",
       "      <td>0.600000</td>\n",
       "      <td>0.600000</td>\n",
       "      <td>5.199937</td>\n",
       "      <td>0.000000</td>\n",
       "      <td>0.000000</td>\n",
       "      <td>0.006911</td>\n",
       "    </tr>\n",
       "    <tr>\n",
       "      <th>1</th>\n",
       "      <td>1.477010e+15</td>\n",
       "      <td>0.859997</td>\n",
       "      <td>0.600045</td>\n",
       "      <td>5.199747</td>\n",
       "      <td>0.001797</td>\n",
       "      <td>0.000346</td>\n",
       "      <td>0.013822</td>\n",
       "    </tr>\n",
       "    <tr>\n",
       "      <th>2</th>\n",
       "      <td>1.477010e+15</td>\n",
       "      <td>1.119984</td>\n",
       "      <td>0.600225</td>\n",
       "      <td>5.199429</td>\n",
       "      <td>0.005390</td>\n",
       "      <td>0.001037</td>\n",
       "      <td>0.020730</td>\n",
       "    </tr>\n",
       "    <tr>\n",
       "      <th>3</th>\n",
       "      <td>1.477010e+15</td>\n",
       "      <td>1.379955</td>\n",
       "      <td>0.600629</td>\n",
       "      <td>5.198979</td>\n",
       "      <td>0.010778</td>\n",
       "      <td>0.002073</td>\n",
       "      <td>0.027634</td>\n",
       "    </tr>\n",
       "    <tr>\n",
       "      <th>4</th>\n",
       "      <td>1.477010e+15</td>\n",
       "      <td>1.639904</td>\n",
       "      <td>0.601347</td>\n",
       "      <td>5.198392</td>\n",
       "      <td>0.017960</td>\n",
       "      <td>0.003455</td>\n",
       "      <td>0.034535</td>\n",
       "    </tr>\n",
       "  </tbody>\n",
       "</table>\n",
       "</div>"
      ],
      "text/plain": [
       "      timestamp  x_groundtruth  y_groundtruth  vx_groundtruth  vy_groundtruth  \\\n",
       "0  1.477010e+15       0.600000       0.600000        5.199937        0.000000   \n",
       "1  1.477010e+15       0.859997       0.600045        5.199747        0.001797   \n",
       "2  1.477010e+15       1.119984       0.600225        5.199429        0.005390   \n",
       "3  1.477010e+15       1.379955       0.600629        5.198979        0.010778   \n",
       "4  1.477010e+15       1.639904       0.601347        5.198392        0.017960   \n",
       "\n",
       "   yaw_groundtruth  yawrate_groundtruth  \n",
       "0         0.000000             0.006911  \n",
       "1         0.000346             0.013822  \n",
       "2         0.001037             0.020730  \n",
       "3         0.002073             0.027634  \n",
       "4         0.003455             0.034535  "
      ]
     },
     "execution_count": 4,
     "metadata": {},
     "output_type": "execute_result"
    }
   ],
   "source": [
    "df = pd.DataFrame(data, columns=header, dtype= float)\n",
    "df.head()"
   ]
  },
  {
   "cell_type": "code",
   "execution_count": 24,
   "metadata": {},
   "outputs": [
    {
     "data": {
      "text/html": [
       "<div>\n",
       "<style>\n",
       "    .dataframe thead tr:only-child th {\n",
       "        text-align: right;\n",
       "    }\n",
       "\n",
       "    .dataframe thead th {\n",
       "        text-align: left;\n",
       "    }\n",
       "\n",
       "    .dataframe tbody tr th {\n",
       "        vertical-align: top;\n",
       "    }\n",
       "</style>\n",
       "<table border=\"1\" class=\"dataframe\">\n",
       "  <thead>\n",
       "    <tr style=\"text-align: right;\">\n",
       "      <th></th>\n",
       "      <th>timestamp</th>\n",
       "      <th>x_groundtruth</th>\n",
       "      <th>y_groundtruth</th>\n",
       "      <th>vx_groundtruth</th>\n",
       "      <th>vy_groundtruth</th>\n",
       "      <th>yaw_groundtruth</th>\n",
       "      <th>yawrate_groundtruth</th>\n",
       "    </tr>\n",
       "  </thead>\n",
       "  <tbody>\n",
       "    <tr>\n",
       "      <th>count</th>\n",
       "      <td>5.000000e+02</td>\n",
       "      <td>500.000000</td>\n",
       "      <td>500.000000</td>\n",
       "      <td>500.000000</td>\n",
       "      <td>500.000000</td>\n",
       "      <td>5.000000e+02</td>\n",
       "      <td>5.000000e+02</td>\n",
       "    </tr>\n",
       "    <tr>\n",
       "      <th>mean</th>\n",
       "      <td>1.477010e+15</td>\n",
       "      <td>-3.189916</td>\n",
       "      <td>5.753179</td>\n",
       "      <td>-0.292748</td>\n",
       "      <td>0.412191</td>\n",
       "      <td>2.188352e+00</td>\n",
       "      <td>1.968718e-18</td>\n",
       "    </tr>\n",
       "    <tr>\n",
       "      <th>std</th>\n",
       "      <td>7.224092e+06</td>\n",
       "      <td>15.205833</td>\n",
       "      <td>9.118875</td>\n",
       "      <td>3.737034</td>\n",
       "      <td>3.293722</td>\n",
       "      <td>1.548979e+00</td>\n",
       "      <td>3.892982e-01</td>\n",
       "    </tr>\n",
       "    <tr>\n",
       "      <th>min</th>\n",
       "      <td>1.477010e+15</td>\n",
       "      <td>-26.649970</td>\n",
       "      <td>-9.627173</td>\n",
       "      <td>-4.880526</td>\n",
       "      <td>-4.909760</td>\n",
       "      <td>-1.509372e-15</td>\n",
       "      <td>-5.500000e-01</td>\n",
       "    </tr>\n",
       "    <tr>\n",
       "      <th>25%</th>\n",
       "      <td>1.477010e+15</td>\n",
       "      <td>-16.791332</td>\n",
       "      <td>-0.206875</td>\n",
       "      <td>-3.659486</td>\n",
       "      <td>-2.798477</td>\n",
       "      <td>6.409228e-01</td>\n",
       "      <td>-3.876793e-01</td>\n",
       "    </tr>\n",
       "    <tr>\n",
       "      <th>50%</th>\n",
       "      <td>1.477010e+15</td>\n",
       "      <td>-3.189916</td>\n",
       "      <td>5.753179</td>\n",
       "      <td>-1.779669</td>\n",
       "      <td>0.768672</td>\n",
       "      <td>2.188352e+00</td>\n",
       "      <td>8.844675e-17</td>\n",
       "    </tr>\n",
       "    <tr>\n",
       "      <th>75%</th>\n",
       "      <td>1.477010e+15</td>\n",
       "      <td>10.411495</td>\n",
       "      <td>11.713233</td>\n",
       "      <td>4.006714</td>\n",
       "      <td>3.429826</td>\n",
       "      <td>3.735781e+00</td>\n",
       "      <td>3.876793e-01</td>\n",
       "    </tr>\n",
       "    <tr>\n",
       "      <th>max</th>\n",
       "      <td>1.477010e+15</td>\n",
       "      <td>20.270140</td>\n",
       "      <td>21.133530</td>\n",
       "      <td>5.200000</td>\n",
       "      <td>4.834389</td>\n",
       "      <td>4.376703e+00</td>\n",
       "      <td>5.500000e-01</td>\n",
       "    </tr>\n",
       "  </tbody>\n",
       "</table>\n",
       "</div>"
      ],
      "text/plain": [
       "          timestamp  x_groundtruth  y_groundtruth  vx_groundtruth  \\\n",
       "count  5.000000e+02     500.000000     500.000000      500.000000   \n",
       "mean   1.477010e+15      -3.189916       5.753179       -0.292748   \n",
       "std    7.224092e+06      15.205833       9.118875        3.737034   \n",
       "min    1.477010e+15     -26.649970      -9.627173       -4.880526   \n",
       "25%    1.477010e+15     -16.791332      -0.206875       -3.659486   \n",
       "50%    1.477010e+15      -3.189916       5.753179       -1.779669   \n",
       "75%    1.477010e+15      10.411495      11.713233        4.006714   \n",
       "max    1.477010e+15      20.270140      21.133530        5.200000   \n",
       "\n",
       "       vy_groundtruth  yaw_groundtruth  yawrate_groundtruth  \n",
       "count      500.000000     5.000000e+02         5.000000e+02  \n",
       "mean         0.412191     2.188352e+00         1.968718e-18  \n",
       "std          3.293722     1.548979e+00         3.892982e-01  \n",
       "min         -4.909760    -1.509372e-15        -5.500000e-01  \n",
       "25%         -2.798477     6.409228e-01        -3.876793e-01  \n",
       "50%          0.768672     2.188352e+00         8.844675e-17  \n",
       "75%          3.429826     3.735781e+00         3.876793e-01  \n",
       "max          4.834389     4.376703e+00         5.500000e-01  "
      ]
     },
     "execution_count": 24,
     "metadata": {},
     "output_type": "execute_result"
    }
   ],
   "source": [
    "df.describe()"
   ]
  },
  {
   "cell_type": "code",
   "execution_count": null,
   "metadata": {
    "collapsed": true
   },
   "outputs": [],
   "source": []
  },
  {
   "cell_type": "code",
   "execution_count": 18,
   "metadata": {},
   "outputs": [
    {
     "name": "stdout",
     "output_type": "stream",
     "text": [
      "count    499.000000\n",
      "mean       0.000003\n",
      "std        1.329942\n",
      "min       -2.559160\n",
      "25%       -0.938810\n",
      "50%        0.000400\n",
      "75%        0.937770\n",
      "max        2.560282\n",
      "dtype: float64\n"
     ]
    }
   ],
   "source": [
    "n0 = pd.Series([0])\n",
    "t = df[\"vx_groundtruth\"]\n",
    "t1 = n0.append(t, ignore_index= True)\n",
    "t2 = t.append(n0, ignore_index = True)\n",
    "print((((t2-t1)[1:-1])/5e-2).describe())"
   ]
  },
  {
   "cell_type": "code",
   "execution_count": 46,
   "metadata": {},
   "outputs": [
    {
     "data": {
      "text/plain": [
       "count    5.000000e+02\n",
       "mean    -1.867989e-16\n",
       "std      7.785964e+00\n",
       "min     -1.100000e+01\n",
       "25%     -7.753585e+00\n",
       "50%      1.768935e-15\n",
       "75%      7.753585e+00\n",
       "max      1.100000e+01\n",
       "Name: yawrate_groundtruth, dtype: float64"
      ]
     },
     "execution_count": 46,
     "metadata": {},
     "output_type": "execute_result"
    }
   ],
   "source": [
    "(df['yawrate_groundtruth']/5.0e-2).describe()"
   ]
  },
  {
   "cell_type": "code",
   "execution_count": 6,
   "metadata": {},
   "outputs": [
    {
     "name": "stderr",
     "output_type": "stream",
     "text": [
      "/Users/ElsaW/anaconda/lib/python3.6/site-packages/ggplot/utils.py:81: FutureWarning: pandas.tslib is deprecated and will be removed in a future version.\n",
      "You can access Timestamp as pandas.Timestamp\n",
      "  pd.tslib.Timestamp,\n",
      "/Users/ElsaW/anaconda/lib/python3.6/site-packages/ggplot/stats/smoothers.py:4: FutureWarning: The pandas.lib module is deprecated and will be removed in a future version. These are private functions and can be accessed from pandas._libs.lib instead\n",
      "  from pandas.lib import Timestamp\n",
      "/Users/ElsaW/anaconda/lib/python3.6/site-packages/statsmodels/compat/pandas.py:56: FutureWarning: The pandas.core.datetools module is deprecated and will be removed in a future version. Please use the pandas.tseries module instead.\n",
      "  from pandas.core import datetools\n"
     ]
    }
   ],
   "source": [
    "from ggplot import *\n",
    "import matplotlib.pyplot as plt"
   ]
  },
  {
   "cell_type": "code",
   "execution_count": 7,
   "metadata": {
    "collapsed": true
   },
   "outputs": [],
   "source": [
    "%matplotlib inline"
   ]
  },
  {
   "cell_type": "code",
   "execution_count": 8,
   "metadata": {
    "scrolled": true
   },
   "outputs": [
    {
     "data": {
      "text/plain": [
       "<matplotlib.axes._subplots.AxesSubplot at 0x1162e46a0>"
      ]
     },
     "execution_count": 8,
     "metadata": {},
     "output_type": "execute_result"
    },
    {
     "data": {
      "image/png": "[encoded data removed]",
      "text/plain": [
       "<matplotlib.figure.Figure at 0x1162d5eb8>"
      ]
     },
     "metadata": {},
     "output_type": "display_data"
    }
   ],
   "source": [
    "fig, ax = plt.subplots(figsize=(10,  10))\n",
    "df.boxplot([df.columns[1],df.columns[2]], ax=ax)"
   ]
  },
  {
   "cell_type": "code",
   "execution_count": 9,
   "metadata": {
    "scrolled": false
   },
   "outputs": [
    {
     "data": {
      "image/png": "[encoded data removed]",
      "text/plain": [
       "<matplotlib.figure.Figure at 0x116294908>"
      ]
     },
     "metadata": {},
     "output_type": "display_data"
    },
    {
     "data": {
      "text/plain": [
       "<ggplot: (-9223372036563085866)>"
      ]
     },
     "execution_count": 9,
     "metadata": {},
     "output_type": "execute_result"
    }
   ],
   "source": [
    "ggplot(df, aes(x='yaw_groundtruth')) + geom_histogram(binwidth = 0.5)"
   ]
  },
  {
   "cell_type": "code",
   "execution_count": 10,
   "metadata": {},
   "outputs": [
    {
     "data": {
      "text/plain": [
       "Index(['timestamp', 'x_groundtruth', 'y_groundtruth', 'vx_groundtruth',\n",
       "       'vy_groundtruth', 'yaw_groundtruth', 'yawrate_groundtruth'],\n",
       "      dtype='object')"
      ]
     },
     "execution_count": 10,
     "metadata": {},
     "output_type": "execute_result"
    }
   ],
   "source": [
    "df.columns"
   ]
  },
  {
   "cell_type": "code",
   "execution_count": 18,
   "metadata": {},
   "outputs": [
    {
     "data": {
      "image/png": "[encoded data removed]",
      "text/plain": [
       "<matplotlib.figure.Figure at 0x117574e48>"
      ]
     },
     "metadata": {},
     "output_type": "display_data"
    },
    {
     "data": {
      "text/plain": [
       "<ggplot: (-9223372036563086076)>"
      ]
     },
     "execution_count": 18,
     "metadata": {},
     "output_type": "execute_result"
    }
   ],
   "source": [
    "ggplot(df, aes(x=df.columns[1]))+ geom_density()"
   ]
  },
  {
   "cell_type": "code",
   "execution_count": 17,
   "metadata": {},
   "outputs": [
    {
     "data": {
      "image/png": "[encoded data removed]",
      "text/plain": [
       "<matplotlib.figure.Figure at 0x115ea9eb8>"
      ]
     },
     "metadata": {},
     "output_type": "display_data"
    },
    {
     "data": {
      "text/plain": [
       "<ggplot: (-9223372036562795930)>"
      ]
     },
     "execution_count": 17,
     "metadata": {},
     "output_type": "execute_result"
    }
   ],
   "source": [
    "ggplot(df, aes(x='yaw_groundtruth')) + geom_histogram()"
   ]
  },
  {
   "cell_type": "code",
   "execution_count": null,
   "metadata": {
    "collapsed": true
   },
   "outputs": [],
   "source": []
  }
 ],
 "metadata": {
  "kernelspec": {
   "display_name": "Python 3",
   "language": "python",
   "name": "python3"
  },
  "language_info": {
   "codemirror_mode": {
    "name": "ipython",
    "version": 3
   },
   "file_extension": ".py",
   "mimetype": "text/x-python",
   "name": "python",
   "nbconvert_exporter": "python",
   "pygments_lexer": "ipython3",
   "version": "3.6.1"
  },
  "widgets": {
   "state": {},
   "version": "1.1.2"
  }
 },
 "nbformat": 4,
 "nbformat_minor": 2
}
